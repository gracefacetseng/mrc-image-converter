{
  "cells": [
    {
      "cell_type": "markdown",
      "metadata": {
        "id": "view-in-github",
        "colab_type": "text"
      },
      "source": [
        "<a href=\"https://github.com/gracefacetseng/mrc-image-converter/blob/main/converter%20-%20google%20colab%20ver.ipynb\" target=\"_parent\"><img src=\"https://colab.research.google.com/assets/colab-badge.svg\" alt=\"Open In Colab\"/></a>"
      ]
    },
    {
      "cell_type": "markdown",
      "id": "1f9ddd37",
      "metadata": {
        "id": "1f9ddd37"
      },
      "source": [
        "# Image File Converter"
      ]
    },
    {
      "cell_type": "markdown",
      "id": "ccf71e3a",
      "metadata": {
        "id": "ccf71e3a"
      },
      "source": [
        "### 1. Install and import libraries:"
      ]
    },
    {
      "cell_type": "code",
      "execution_count": null,
      "id": "dbc6f675",
      "metadata": {
        "id": "dbc6f675"
      },
      "outputs": [],
      "source": [
        "import sys\n",
        "!{sys.executable} -m pip install pathlib mrcfile Pillow numpy tifffile\n",
        "\n",
        "from google.colab import files\n",
        "import os\n",
        "import mrcfile\n",
        "from PIL import Image as im\n",
        "import numpy as np\n",
        "import tifffile as tif"
      ]
    },
    {
      "cell_type": "markdown",
      "id": "02fb04b2",
      "metadata": {
        "id": "02fb04b2"
      },
      "source": [
        "### 2. Import your file and set conversion parameters:"
      ]
    },
    {
      "cell_type": "markdown",
      "source": [
        "Note: 'jpeg' and 'tif' will not work as inputs for the destination file type. Please be mindful of this, and any typos, as the code is written to exit the program if it takes an unknown input."
      ],
      "metadata": {
        "id": "Ng4I8O5IcZLv"
      },
      "id": "Ng4I8O5IcZLv"
    },
    {
      "cell_type": "code",
      "execution_count": null,
      "id": "736de8ed",
      "metadata": {
        "id": "736de8ed"
      },
      "outputs": [],
      "source": [
        "#import file\n",
        "filename = files.upload()\n",
        "\n",
        "for fn in filename.keys():\n",
        "  print('User uploaded file \"{name}\" with length {length} bytes'.format(\n",
        "      name=fn, length=len(filename[fn])))\n",
        "\n",
        "filetype = os.path.splitext(fn)[1]\n",
        "print(fn)\n",
        "\n",
        "# check input filetype\n",
        "valid_filetypes = ['.png', '.tif', '.tiff', '.mrc', '.jpg', '.jpeg']\n",
        "\n",
        "if filetype in valid_filetypes:\n",
        "    pass\n",
        "else:\n",
        "    print('File type not accepted.')\n",
        "    sys.exit()\n",
        "\n",
        "#specify destination filetype\n",
        "to_file = input('Convert to (png/tiff/jpg):')\n",
        "\n",
        "def suffix(to_file):\n",
        "    if to_file == 'png':\n",
        "        return '.png'\n",
        "    elif to_file == 'tiff':\n",
        "        return '.tiff'\n",
        "    elif to_file == 'jpg':\n",
        "        return '.jpg'\n",
        "    else:\n",
        "        print('File type not accepted. Please try again.')\n",
        "        sys.exit()\n",
        "\n",
        "new_name = input('New file name:') + suffix(to_file)"
      ]
    },
    {
      "cell_type": "markdown",
      "id": "95f93892",
      "metadata": {
        "id": "95f93892"
      },
      "source": [
        "### 3. Convert your image to an array:"
      ]
    },
    {
      "cell_type": "code",
      "execution_count": 44,
      "id": "f1527dfe",
      "metadata": {
        "id": "f1527dfe"
      },
      "outputs": [],
      "source": [
        "def img_to_array(fn):\n",
        "    if filetype == '.mrc':\n",
        "        return mrcfile.mmap(fn, permissive=True).data\n",
        "    else:\n",
        "        return np.asarray(im.open(fn))\n",
        "\n",
        "array = img_to_array(fn)"
      ]
    },
    {
      "cell_type": "markdown",
      "id": "cfa1354d",
      "metadata": {
        "id": "cfa1354d"
      },
      "source": [
        "### 4. Set contrast limits. Details in the code:"
      ]
    },
    {
      "cell_type": "code",
      "execution_count": null,
      "id": "afa4cca2",
      "metadata": {
        "id": "afa4cca2"
      },
      "outputs": [],
      "source": [
        "# to find the min and max of the array, if necessary\n",
        "print(np.min(array))\n",
        "print(np.max(array))"
      ]
    },
    {
      "cell_type": "code",
      "execution_count": 46,
      "id": "238fcc19",
      "metadata": {
        "id": "238fcc19"
      },
      "outputs": [],
      "source": [
        "#set contrast limits\n",
        "if filetype == '.mrc':\n",
        "    contrast_min = 18432 # or a specified minimum pixel value\n",
        "    contrast_max = 20017 # or a specified maximum pixel value\n",
        "\n",
        "    ## contrast limits of mrc files must be manually adjusted to appear as they look in napari. in rare cases,\n",
        "    ## the limits are equal to the min and max of the image. if so, use the same parameters for all other image\n",
        "    ## file types. napari does not seem to adjust the contrast limits in any substantial way; these values may\n",
        "    ## be found in metadata associated with the image itself. for now, the only way to find these values is by\n",
        "    ## trial and error. it may be helpful to find the min and max values using the block above. contrast limits\n",
        "    ## are often somewhere in the middle of that range.\n",
        "\n",
        "else:\n",
        "    contrast_min = array.min()\n",
        "    contrast_max = array.max()\n",
        "\n",
        "array = np.where(array <= contrast_min, contrast_min, array)\n",
        "array = np.where(array >= contrast_max, contrast_max, array)\n",
        "array = (array-np.min(array))/(np.max(array)-np.min(array))\n",
        "array *= 255/array.max()"
      ]
    },
    {
      "cell_type": "markdown",
      "id": "d2bbfd79",
      "metadata": {
        "id": "d2bbfd79"
      },
      "source": [
        "### 5. Convert the array to the desired image file and return output:"
      ]
    },
    {
      "cell_type": "code",
      "execution_count": null,
      "id": "67cefa41",
      "metadata": {
        "scrolled": true,
        "id": "67cefa41"
      },
      "outputs": [],
      "source": [
        "#convert array to new image filetype\n",
        "def array_to_img(array):\n",
        "    if to_file == 'tiff':\n",
        "        array = array.astype(np.uint8)\n",
        "        return tif.imwrite(new_name, array)\n",
        "    elif to_file == 'png':\n",
        "        array = array.astype(np.uint8)\n",
        "        png = im.fromarray(array)\n",
        "        return png.save(new_name, Format='PNG')\n",
        "    else:\n",
        "        array = array.astype(np.uint8)\n",
        "        jpg = im.fromarray(array).convert('RGB')\n",
        "        return jpg.save(new_name, Format='JPG')\n",
        "\n",
        "array_to_img(array)\n",
        "files.download(new_name)\n",
        "\n",
        "print(fn, ' successfully converted to ', to_file,', see file ', new_name, sep='')"
      ]
    }
  ],
  "metadata": {
    "kernelspec": {
      "display_name": "Python 3 (ipykernel)",
      "language": "python",
      "name": "python3"
    },
    "language_info": {
      "codemirror_mode": {
        "name": "ipython",
        "version": 3
      },
      "file_extension": ".py",
      "mimetype": "text/x-python",
      "name": "python",
      "nbconvert_exporter": "python",
      "pygments_lexer": "ipython3",
      "version": "3.10.9"
    },
    "colab": {
      "provenance": [],
      "include_colab_link": true
    }
  },
  "nbformat": 4,
  "nbformat_minor": 5
}
