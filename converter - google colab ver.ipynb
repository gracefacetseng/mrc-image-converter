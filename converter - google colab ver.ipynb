{
  "cells": [
    {
      "cell_type": "markdown",
      "metadata": {
        "id": "view-in-github",
        "colab_type": "text"
      },
      "source": [
        "<a href=\"https://colab.research.google.com/github/gracefacetseng/mrc-image-converter/blob/main/converter%20-%20google%20colab%20ver.ipynb\" target=\"_parent\"><img src=\"https://colab.research.google.com/assets/colab-badge.svg\" alt=\"Open In Colab\"/></a>"
      ]
    },
    {
      "cell_type": "markdown",
      "id": "1f9ddd37",
      "metadata": {
        "id": "1f9ddd37"
      },
      "source": [
        "# Image File Converter"
      ]
    },
    {
      "cell_type": "markdown",
      "source": [
        "This notebook supports the following file types:\n",
        "*   Input: png, jpg, tiff, mrc\n",
        "*   Output: png, jpg, tiff\n",
        "\n",
        "When converting mrc files, it may be useful to visualize the original file in napari if you want the file to save as it is displayed in napari."
      ],
      "metadata": {
        "id": "Xv6K1Nbb-xzq"
      },
      "id": "Xv6K1Nbb-xzq"
    },
    {
      "cell_type": "code",
      "execution_count": null,
      "id": "dbc6f675",
      "metadata": {
        "id": "dbc6f675",
        "cellView": "form"
      },
      "outputs": [],
      "source": [
        "#@title 1. Install and import dependencies\n",
        "import sys\n",
        "!{sys.executable} -m pip install pathlib mrcfile Pillow numpy tifffile\n",
        "\n",
        "from google.colab import files\n",
        "import os\n",
        "import mrcfile\n",
        "from PIL import Image as im\n",
        "import numpy as np\n",
        "import tifffile as tif"
      ]
    },
    {
      "cell_type": "code",
      "execution_count": null,
      "id": "736de8ed",
      "metadata": {
        "id": "736de8ed",
        "cellView": "form"
      },
      "outputs": [],
      "source": [
        "#@title 2. Import your file and set conversion parameters:\n",
        "# import file\n",
        "filename = files.upload()\n",
        "\n",
        "for fn in filename.keys():\n",
        "  print('User uploaded file \"{name}\" with length {length} bytes'.format(\n",
        "      name=fn, length=len(filename[fn])))\n",
        "\n",
        "filetype = os.path.splitext(fn)[1]\n",
        "print(fn)\n",
        "\n",
        "# check input filetype\n",
        "valid_filetypes = ['.png', '.tif', '.tiff', '.mrc', '.jpg', '.jpeg']\n",
        "\n",
        "if filetype in valid_filetypes:\n",
        "    pass\n",
        "else:\n",
        "    print('File type not accepted.')\n",
        "    sys.exit()\n",
        "\n",
        "# specify destination filetype\n",
        "#@markdown Use the dropdown menu to choose which file type to convert your image to:\n",
        "to_file = 'png' #@param ['png', 'tiff', 'jpg']\n",
        "\n",
        "def suffix(to_file):\n",
        "    if to_file == 'png':\n",
        "        return '.png'\n",
        "    elif to_file == 'tiff':\n",
        "        return '.tiff'\n",
        "    elif to_file == 'jpg':\n",
        "        return '.jpg'\n",
        "    else:\n",
        "        print('File type not accepted. Please try again.')\n",
        "        sys.exit()\n",
        "\n",
        "#@markdown Please name the new file:\n",
        "input_name = '' #@param {type:'string'}\n",
        "new_name = input_name + suffix(to_file)"
      ]
    },
    {
      "cell_type": "code",
      "execution_count": 59,
      "id": "f1527dfe",
      "metadata": {
        "id": "f1527dfe",
        "cellView": "form"
      },
      "outputs": [],
      "source": [
        "#@title 3. Convert your image to an array:\n",
        "def img_to_array(fn):\n",
        "    if filetype == '.mrc':\n",
        "        return mrcfile.mmap(fn, permissive=True).data\n",
        "    else:\n",
        "        return np.asarray(im.open(fn))\n",
        "\n",
        "array = img_to_array(fn)\n",
        "\n",
        "#@markdown Check this box if you want to convert your image to greyscale. This is necessary to generate a 2-Dimensional image file.\n",
        "if_greyscale = False #@param {type:'boolean'}\n",
        "if if_greyscale:\n",
        "  array = np.mean(array, axis=2)"
      ]
    },
    {
      "cell_type": "markdown",
      "id": "cfa1354d",
      "metadata": {
        "id": "cfa1354d"
      },
      "source": [
        "### 4. Set contrast limits. Details in the code:"
      ]
    },
    {
      "cell_type": "code",
      "execution_count": 4,
      "id": "afa4cca2",
      "metadata": {
        "id": "afa4cca2",
        "colab": {
          "base_uri": "https://localhost:8080/"
        },
        "outputId": "22cc4198-8689-4e10-8f79-3fb3d3b11a28"
      },
      "outputs": [
        {
          "output_type": "stream",
          "name": "stdout",
          "text": [
            "71\n",
            "255\n"
          ]
        }
      ],
      "source": [
        "# to find the min and max of the array, if necessary\n",
        "print(np.min(array))\n",
        "print(np.max(array))"
      ]
    },
    {
      "cell_type": "code",
      "execution_count": 51,
      "id": "238fcc19",
      "metadata": {
        "id": "238fcc19"
      },
      "outputs": [],
      "source": [
        "# set contrast limits\n",
        "if filetype == '.mrc':\n",
        "    contrast_min = array.min() # or a specified minimum pixel value\n",
        "    contrast_max = array.max() # or a specified maximum pixel value\n",
        "\n",
        "    ## contrast limits of mrc files must be manually adjusted to appear as they look in napari. in rare cases,\n",
        "    ## the limits are equal to the min and max of the image. if so, use the same parameters for all other image\n",
        "    ## file types. napari does not seem to adjust the contrast limits in any substantial way; these values may\n",
        "    ## be found in metadata associated with the image itself. for now, the only way to find these values is by\n",
        "    ## trial and error. it may be helpful to find the min and max values using the block above. contrast limits\n",
        "    ## are often somewhere in the middle of that range.\n",
        "\n",
        "else:\n",
        "    contrast_min = array.min()\n",
        "    contrast_max = array.max()\n",
        "\n",
        "array = np.where(array <= contrast_min, contrast_min, array)\n",
        "array = np.where(array >= contrast_max, contrast_max, array)\n",
        "array = (array-np.min(array))/(np.max(array)-np.min(array))\n",
        "\n",
        "if to_file == 'tiff':\n",
        "  pass\n",
        "else:\n",
        "  array *= 255/array.max()"
      ]
    },
    {
      "cell_type": "markdown",
      "source": [
        "### 5. Convert the array to the desired image file and retrieve output"
      ],
      "metadata": {
        "id": "75QbjojgnMYr"
      },
      "id": "75QbjojgnMYr"
    },
    {
      "cell_type": "code",
      "execution_count": 60,
      "id": "67cefa41",
      "metadata": {
        "scrolled": true,
        "id": "67cefa41",
        "colab": {
          "base_uri": "https://localhost:8080/",
          "height": 35
        },
        "outputId": "844b40d1-6d9c-4a72-8559-e2fd662230ff"
      },
      "outputs": [
        {
          "output_type": "display_data",
          "data": {
            "text/plain": [
              "<IPython.core.display.Javascript object>"
            ],
            "application/javascript": [
              "\n",
              "    async function download(id, filename, size) {\n",
              "      if (!google.colab.kernel.accessAllowed) {\n",
              "        return;\n",
              "      }\n",
              "      const div = document.createElement('div');\n",
              "      const label = document.createElement('label');\n",
              "      label.textContent = `Downloading \"${filename}\": `;\n",
              "      div.appendChild(label);\n",
              "      const progress = document.createElement('progress');\n",
              "      progress.max = size;\n",
              "      div.appendChild(progress);\n",
              "      document.body.appendChild(div);\n",
              "\n",
              "      const buffers = [];\n",
              "      let downloaded = 0;\n",
              "\n",
              "      const channel = await google.colab.kernel.comms.open(id);\n",
              "      // Send a message to notify the kernel that we're ready.\n",
              "      channel.send({})\n",
              "\n",
              "      for await (const message of channel.messages) {\n",
              "        // Send a message to notify the kernel that we're ready.\n",
              "        channel.send({})\n",
              "        if (message.buffers) {\n",
              "          for (const buffer of message.buffers) {\n",
              "            buffers.push(buffer);\n",
              "            downloaded += buffer.byteLength;\n",
              "            progress.value = downloaded;\n",
              "          }\n",
              "        }\n",
              "      }\n",
              "      const blob = new Blob(buffers, {type: 'application/binary'});\n",
              "      const a = document.createElement('a');\n",
              "      a.href = window.URL.createObjectURL(blob);\n",
              "      a.download = filename;\n",
              "      div.appendChild(a);\n",
              "      a.click();\n",
              "      div.remove();\n",
              "    }\n",
              "  "
            ]
          },
          "metadata": {}
        },
        {
          "output_type": "display_data",
          "data": {
            "text/plain": [
              "<IPython.core.display.Javascript object>"
            ],
            "application/javascript": [
              "download(\"download_d38411da-5196-4f43-a6bf-a983c6b741cf\", \"demo 2.png\", 38320)"
            ]
          },
          "metadata": {}
        },
        {
          "output_type": "stream",
          "name": "stdout",
          "text": [
            "test image 3 - RGBA test (2).jpg successfully converted to png, see file demo 2.png\n"
          ]
        }
      ],
      "source": [
        "# convert array to new image filetype\n",
        "def array_to_img(array):\n",
        "    if to_file == 'tiff':\n",
        "        return tif.imwrite(new_name, array)\n",
        "    elif to_file == 'png':\n",
        "        array = array.astype(np.uint8)\n",
        "        png = im.fromarray(array)\n",
        "        return png.save(new_name, Format='PNG')\n",
        "    else:\n",
        "        array = array.astype(np.uint8)\n",
        "        jpg = im.fromarray(array).convert('RGB')\n",
        "        return jpg.save(new_name, Format='JPG')\n",
        "\n",
        "array_to_img(array)\n",
        "files.download(new_name)\n",
        "\n",
        "print(fn, ' successfully converted to ', to_file,', see file ', new_name, sep='')"
      ]
    }
  ],
  "metadata": {
    "kernelspec": {
      "display_name": "Python 3",
      "name": "python3"
    },
    "language_info": {
      "codemirror_mode": {
        "name": "ipython",
        "version": 3
      },
      "file_extension": ".py",
      "mimetype": "text/x-python",
      "name": "python",
      "nbconvert_exporter": "python",
      "pygments_lexer": "ipython3",
      "version": "3.10.9"
    },
    "colab": {
      "provenance": [],
      "include_colab_link": true
    }
  },
  "nbformat": 4,
  "nbformat_minor": 5
}
