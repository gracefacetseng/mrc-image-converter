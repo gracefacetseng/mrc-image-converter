{
 "cells": [
  {
   "cell_type": "markdown",
   "id": "1f9ddd37",
   "metadata": {},
   "source": [
    "# Image File Converter "
   ]
  },
  {
   "cell_type": "markdown",
   "id": "19a53ff1",
   "metadata": {},
   "source": [
    "A gentle reminder: please upload the image you want to convert to JupyterHub before running this notebook. The converted image will also appear in JupyterHub and can be downloaded onto your computer. When converting mrc files, it may be useful to have napari open to visualize the original file."
   ]
  },
  {
   "cell_type": "markdown",
   "id": "ccf71e3a",
   "metadata": {},
   "source": [
    "### Install and import libraries:"
   ]
  },
  {
   "cell_type": "code",
   "execution_count": null,
   "id": "dbc6f675",
   "metadata": {},
   "outputs": [],
   "source": [
    "import sys\n",
    "!{sys.executable} -m pip install pathlib mrcfile Pillow numpy tifffile \n",
    "\n",
    "import pathlib as pl\n",
    "import mrcfile\n",
    "from PIL import Image as im\n",
    "import numpy as np\n",
    "import tifffile as tif"
   ]
  },
  {
   "cell_type": "markdown",
   "id": "02fb04b2",
   "metadata": {},
   "source": [
    "### Import your file and set conversion parameters:"
   ]
  },
  {
   "cell_type": "markdown",
   "id": "2987d479",
   "metadata": {},
   "source": [
    "Note: 'jpeg' and 'tif' will not work as inputs for the destination file type. Please be mindful of this, and any typos, as the code is written to exit the program if it takes an unknown input."
   ]
  },
  {
   "cell_type": "code",
   "execution_count": null,
   "id": "736de8ed",
   "metadata": {},
   "outputs": [],
   "source": [
    "#import file\n",
    "filename = input('File name:')\n",
    "filetype = pl.Path(filename).suffix\n",
    "\n",
    "# check input filetype\n",
    "valid_filetypes = ['.png', '.tif', '.tiff', '.mrc', '.jpg', '.jpeg']\n",
    "\n",
    "if filetype in valid_filetypes:\n",
    "    pass\n",
    "else:\n",
    "    print('File type not accepted.')\n",
    "    sys.exit()\n",
    "\n",
    "#specify destination filetype\n",
    "to_file = input('Convert to (png/tiff/jpg):')\n",
    "\n",
    "def suffix(to_file):\n",
    "    if to_file == 'png':\n",
    "        return '.png'\n",
    "    elif to_file == 'tiff':\n",
    "        return '.tiff'\n",
    "    elif to_file == 'jpg':\n",
    "        return '.jpg'\n",
    "    else:\n",
    "        print('File type not accepted. Please try again.')\n",
    "        sys.exit()\n",
    "\n",
    "new_name = input('New file name:') + suffix(to_file)"
   ]
  },
  {
   "cell_type": "markdown",
   "id": "95f93892",
   "metadata": {},
   "source": [
    "### The image is converted to a numpy array:"
   ]
  },
  {
   "cell_type": "code",
   "execution_count": null,
   "id": "f1527dfe",
   "metadata": {},
   "outputs": [],
   "source": [
    "def img_to_array(filename):\n",
    "    if filetype == '.mrc': \n",
    "        return mrcfile.mmap(filename, permissive=True).data\n",
    "    else:\n",
    "        return np.asarray(im.open(filename))\n",
    "\n",
    "array = img_to_array(filename)"
   ]
  },
  {
   "cell_type": "markdown",
   "id": "cfa1354d",
   "metadata": {},
   "source": [
    "### Set contrast limits. Details in the code:"
   ]
  },
  {
   "cell_type": "code",
   "execution_count": null,
   "id": "afa4cca2",
   "metadata": {},
   "outputs": [],
   "source": [
    "# to find the min and max of the array, if necessary\n",
    "print(np.min(array))\n",
    "print(np.max(array))"
   ]
  },
  {
   "cell_type": "code",
   "execution_count": null,
   "id": "238fcc19",
   "metadata": {},
   "outputs": [],
   "source": [
    "#set contrast limits\n",
    "if filetype == '.mrc':\n",
    "    contrast_min = 18432\n",
    "    contrast_max = 20017\n",
    "    \n",
    "    ## contrast limits of mrc files must be manually adjusted to appear as they look in napari. in rare cases, the limits \n",
    "    ## are equal to the min and max of the image. if so, the parameters used for all other image file types are used. napari \n",
    "    ## does not seem to adjust the contrast limits in any substantial way; these values may be found in metadata associated \n",
    "    ## with the image itself. for now, the only way to find these values is by trial and error. it may be helpful to find the\n",
    "    ## min and max values of the image. contrast limits are often somewhere in the middle of that range.\n",
    "\n",
    "else:\n",
    "    contrast_min = array.min()\n",
    "    contrast_max = array.max()\n",
    "\n",
    "array = np.where(array <= contrast_min, contrast_min, array)\n",
    "array = np.where(array >= contrast_max, contrast_max, array)\n",
    "array = (array-np.min(array))/(np.max(array)-np.min(array))\n",
    "array *= 255/array.max()"
   ]
  },
  {
   "cell_type": "markdown",
   "id": "d2bbfd79",
   "metadata": {},
   "source": [
    "### Convert the array to the desired image file and return output:"
   ]
  },
  {
   "cell_type": "code",
   "execution_count": null,
   "id": "67cefa41",
   "metadata": {
    "scrolled": true
   },
   "outputs": [],
   "source": [
    "#convert array to new image filetype\n",
    "def array_to_img(array):\n",
    "    if to_file == 'tiff':\n",
    "        array = array.astype(np.uint8)\n",
    "        return tif.imwrite(new_name, array)\n",
    "    elif to_file == 'png':\n",
    "        array = array.astype(np.uint8)\n",
    "        png = im.fromarray(array)\n",
    "        return png.save(new_name, Format='PNG')\n",
    "    else:\n",
    "        array = array.astype(np.uint8)\n",
    "        jpg = im.fromarray(array).convert('RGB')\n",
    "        return jpg.save(new_name, Format='JPG')\n",
    "\n",
    "array_to_img(array)\n",
    "print(pl.Path(filename).name, ' successfully converted to ', to_file,', see file ', new_name, sep='')"
   ]
  }
 ],
 "metadata": {
  "kernelspec": {
   "display_name": "Python 3 (ipykernel)",
   "language": "python",
   "name": "python3"
  },
  "language_info": {
   "codemirror_mode": {
    "name": "ipython",
    "version": 3
   },
   "file_extension": ".py",
   "mimetype": "text/x-python",
   "name": "python",
   "nbconvert_exporter": "python",
   "pygments_lexer": "ipython3",
   "version": "3.10.9"
  }
 },
 "nbformat": 4,
 "nbformat_minor": 5
}
