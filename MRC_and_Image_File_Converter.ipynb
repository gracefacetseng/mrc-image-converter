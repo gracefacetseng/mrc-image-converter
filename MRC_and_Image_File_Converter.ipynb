{
  "cells": [
    {
      "cell_type": "markdown",
      "metadata": {
        "id": "view-in-github",
        "colab_type": "text"
      },
      "source": [
        "<a href=\"https://colab.research.google.com/github/gracefacetseng/mrc-image-converter/blob/main/MRC_and_Image_File_Converter.ipynb\" target=\"_parent\"><img src=\"https://colab.research.google.com/assets/colab-badge.svg\" alt=\"Open In Colab\"/></a>"
      ]
    },
    {
      "cell_type": "markdown",
      "id": "1f9ddd37",
      "metadata": {
        "id": "1f9ddd37"
      },
      "source": [
        "# Image File Converter"
      ]
    },
    {
      "cell_type": "markdown",
      "id": "19a53ff1",
      "metadata": {
        "id": "19a53ff1"
      },
      "source": [
        "When converting mrc files, it may be useful to have napari open to visualize the original file."
      ]
    },
    {
      "cell_type": "markdown",
      "id": "ccf71e3a",
      "metadata": {
        "id": "ccf71e3a"
      },
      "source": [
        "### 1. Install and import libraries:"
      ]
    },
    {
      "cell_type": "code",
      "execution_count": 42,
      "id": "dbc6f675",
      "metadata": {
        "colab": {
          "base_uri": "https://localhost:8080/"
        },
        "id": "dbc6f675",
        "outputId": "59f7b3f1-6d37-4051-dfc9-291c79fae812"
      },
      "outputs": [
        {
          "output_type": "stream",
          "name": "stdout",
          "text": [
            "Requirement already satisfied: pathlib in /usr/local/lib/python3.10/dist-packages (1.0.1)\n",
            "Requirement already satisfied: mrcfile in /usr/local/lib/python3.10/dist-packages (1.4.3)\n",
            "Requirement already satisfied: Pillow in /usr/local/lib/python3.10/dist-packages (8.4.0)\n",
            "Requirement already satisfied: numpy in /usr/local/lib/python3.10/dist-packages (1.22.4)\n",
            "Requirement already satisfied: tifffile in /usr/local/lib/python3.10/dist-packages (2023.4.12)\n"
          ]
        }
      ],
      "source": [
        "import sys\n",
        "!{sys.executable} -m pip install pathlib mrcfile Pillow numpy tifffile\n",
        "\n",
        "from google.colab import files\n",
        "import os\n",
        "import mrcfile\n",
        "from PIL import Image as im\n",
        "import numpy as np\n",
        "import tifffile as tif"
      ]
    },
    {
      "cell_type": "markdown",
      "id": "02fb04b2",
      "metadata": {
        "id": "02fb04b2"
      },
      "source": [
        "### 2. Import your file and set conversion parameters:"
      ]
    },
    {
      "cell_type": "markdown",
      "source": [
        "Note: 'jpeg' and 'tif' will not work as inputs for the destination file type. Please be mindful of this, and any typos, as the code is written to exit the program if it takes an unknown input."
      ],
      "metadata": {
        "id": "Ng4I8O5IcZLv"
      },
      "id": "Ng4I8O5IcZLv"
    },
    {
      "cell_type": "code",
      "execution_count": 43,
      "id": "736de8ed",
      "metadata": {
        "colab": {
          "base_uri": "https://localhost:8080/",
          "height": 184
        },
        "id": "736de8ed",
        "outputId": "230ba0c3-2359-4a45-b19b-6a5af523d215"
      },
      "outputs": [
        {
          "output_type": "display_data",
          "data": {
            "text/plain": [
              "<IPython.core.display.HTML object>"
            ],
            "text/html": [
              "\n",
              "     <input type=\"file\" id=\"files-18539bfa-e25c-470d-a3f7-25ba03634ee3\" name=\"files[]\" multiple disabled\n",
              "        style=\"border:none\" />\n",
              "     <output id=\"result-18539bfa-e25c-470d-a3f7-25ba03634ee3\">\n",
              "      Upload widget is only available when the cell has been executed in the\n",
              "      current browser session. Please rerun this cell to enable.\n",
              "      </output>\n",
              "      <script>// Copyright 2017 Google LLC\n",
              "//\n",
              "// Licensed under the Apache License, Version 2.0 (the \"License\");\n",
              "// you may not use this file except in compliance with the License.\n",
              "// You may obtain a copy of the License at\n",
              "//\n",
              "//      http://www.apache.org/licenses/LICENSE-2.0\n",
              "//\n",
              "// Unless required by applicable law or agreed to in writing, software\n",
              "// distributed under the License is distributed on an \"AS IS\" BASIS,\n",
              "// WITHOUT WARRANTIES OR CONDITIONS OF ANY KIND, either express or implied.\n",
              "// See the License for the specific language governing permissions and\n",
              "// limitations under the License.\n",
              "\n",
              "/**\n",
              " * @fileoverview Helpers for google.colab Python module.\n",
              " */\n",
              "(function(scope) {\n",
              "function span(text, styleAttributes = {}) {\n",
              "  const element = document.createElement('span');\n",
              "  element.textContent = text;\n",
              "  for (const key of Object.keys(styleAttributes)) {\n",
              "    element.style[key] = styleAttributes[key];\n",
              "  }\n",
              "  return element;\n",
              "}\n",
              "\n",
              "// Max number of bytes which will be uploaded at a time.\n",
              "const MAX_PAYLOAD_SIZE = 100 * 1024;\n",
              "\n",
              "function _uploadFiles(inputId, outputId) {\n",
              "  const steps = uploadFilesStep(inputId, outputId);\n",
              "  const outputElement = document.getElementById(outputId);\n",
              "  // Cache steps on the outputElement to make it available for the next call\n",
              "  // to uploadFilesContinue from Python.\n",
              "  outputElement.steps = steps;\n",
              "\n",
              "  return _uploadFilesContinue(outputId);\n",
              "}\n",
              "\n",
              "// This is roughly an async generator (not supported in the browser yet),\n",
              "// where there are multiple asynchronous steps and the Python side is going\n",
              "// to poll for completion of each step.\n",
              "// This uses a Promise to block the python side on completion of each step,\n",
              "// then passes the result of the previous step as the input to the next step.\n",
              "function _uploadFilesContinue(outputId) {\n",
              "  const outputElement = document.getElementById(outputId);\n",
              "  const steps = outputElement.steps;\n",
              "\n",
              "  const next = steps.next(outputElement.lastPromiseValue);\n",
              "  return Promise.resolve(next.value.promise).then((value) => {\n",
              "    // Cache the last promise value to make it available to the next\n",
              "    // step of the generator.\n",
              "    outputElement.lastPromiseValue = value;\n",
              "    return next.value.response;\n",
              "  });\n",
              "}\n",
              "\n",
              "/**\n",
              " * Generator function which is called between each async step of the upload\n",
              " * process.\n",
              " * @param {string} inputId Element ID of the input file picker element.\n",
              " * @param {string} outputId Element ID of the output display.\n",
              " * @return {!Iterable<!Object>} Iterable of next steps.\n",
              " */\n",
              "function* uploadFilesStep(inputId, outputId) {\n",
              "  const inputElement = document.getElementById(inputId);\n",
              "  inputElement.disabled = false;\n",
              "\n",
              "  const outputElement = document.getElementById(outputId);\n",
              "  outputElement.innerHTML = '';\n",
              "\n",
              "  const pickedPromise = new Promise((resolve) => {\n",
              "    inputElement.addEventListener('change', (e) => {\n",
              "      resolve(e.target.files);\n",
              "    });\n",
              "  });\n",
              "\n",
              "  const cancel = document.createElement('button');\n",
              "  inputElement.parentElement.appendChild(cancel);\n",
              "  cancel.textContent = 'Cancel upload';\n",
              "  const cancelPromise = new Promise((resolve) => {\n",
              "    cancel.onclick = () => {\n",
              "      resolve(null);\n",
              "    };\n",
              "  });\n",
              "\n",
              "  // Wait for the user to pick the files.\n",
              "  const files = yield {\n",
              "    promise: Promise.race([pickedPromise, cancelPromise]),\n",
              "    response: {\n",
              "      action: 'starting',\n",
              "    }\n",
              "  };\n",
              "\n",
              "  cancel.remove();\n",
              "\n",
              "  // Disable the input element since further picks are not allowed.\n",
              "  inputElement.disabled = true;\n",
              "\n",
              "  if (!files) {\n",
              "    return {\n",
              "      response: {\n",
              "        action: 'complete',\n",
              "      }\n",
              "    };\n",
              "  }\n",
              "\n",
              "  for (const file of files) {\n",
              "    const li = document.createElement('li');\n",
              "    li.append(span(file.name, {fontWeight: 'bold'}));\n",
              "    li.append(span(\n",
              "        `(${file.type || 'n/a'}) - ${file.size} bytes, ` +\n",
              "        `last modified: ${\n",
              "            file.lastModifiedDate ? file.lastModifiedDate.toLocaleDateString() :\n",
              "                                    'n/a'} - `));\n",
              "    const percent = span('0% done');\n",
              "    li.appendChild(percent);\n",
              "\n",
              "    outputElement.appendChild(li);\n",
              "\n",
              "    const fileDataPromise = new Promise((resolve) => {\n",
              "      const reader = new FileReader();\n",
              "      reader.onload = (e) => {\n",
              "        resolve(e.target.result);\n",
              "      };\n",
              "      reader.readAsArrayBuffer(file);\n",
              "    });\n",
              "    // Wait for the data to be ready.\n",
              "    let fileData = yield {\n",
              "      promise: fileDataPromise,\n",
              "      response: {\n",
              "        action: 'continue',\n",
              "      }\n",
              "    };\n",
              "\n",
              "    // Use a chunked sending to avoid message size limits. See b/62115660.\n",
              "    let position = 0;\n",
              "    do {\n",
              "      const length = Math.min(fileData.byteLength - position, MAX_PAYLOAD_SIZE);\n",
              "      const chunk = new Uint8Array(fileData, position, length);\n",
              "      position += length;\n",
              "\n",
              "      const base64 = btoa(String.fromCharCode.apply(null, chunk));\n",
              "      yield {\n",
              "        response: {\n",
              "          action: 'append',\n",
              "          file: file.name,\n",
              "          data: base64,\n",
              "        },\n",
              "      };\n",
              "\n",
              "      let percentDone = fileData.byteLength === 0 ?\n",
              "          100 :\n",
              "          Math.round((position / fileData.byteLength) * 100);\n",
              "      percent.textContent = `${percentDone}% done`;\n",
              "\n",
              "    } while (position < fileData.byteLength);\n",
              "  }\n",
              "\n",
              "  // All done.\n",
              "  yield {\n",
              "    response: {\n",
              "      action: 'complete',\n",
              "    }\n",
              "  };\n",
              "}\n",
              "\n",
              "scope.google = scope.google || {};\n",
              "scope.google.colab = scope.google.colab || {};\n",
              "scope.google.colab._files = {\n",
              "  _uploadFiles,\n",
              "  _uploadFilesContinue,\n",
              "};\n",
              "})(self);\n",
              "</script> "
            ]
          },
          "metadata": {}
        },
        {
          "name": "stdout",
          "output_type": "stream",
          "text": [
            "Saving 22feb15b_ApoF_00005gr_00047sq_v02_00002hln_00014enn-a-DW.mrc to 22feb15b_ApoF_00005gr_00047sq_v02_00002hln_00014enn-a-DW (1).mrc\n",
            "User uploaded file \"22feb15b_ApoF_00005gr_00047sq_v02_00002hln_00014enn-a-DW.mrc\" with length 67109888 bytes\n",
            "22feb15b_ApoF_00005gr_00047sq_v02_00002hln_00014enn-a-DW.mrc\n",
            "Convert to (png/tiff/jpg):png\n",
            "New file name:conv\n"
          ]
        }
      ],
      "source": [
        "#import file\n",
        "filename = files.upload()\n",
        "\n",
        "for fn in filename.keys():\n",
        "  print('User uploaded file \"{name}\" with length {length} bytes'.format(\n",
        "      name=fn, length=len(filename[fn])))\n",
        "\n",
        "filetype = os.path.splitext(fn)[1]\n",
        "print(fn)\n",
        "\n",
        "# check input filetype\n",
        "valid_filetypes = ['.png', '.tif', '.tiff', '.mrc', '.jpg', '.jpeg']\n",
        "\n",
        "if filetype in valid_filetypes:\n",
        "    pass\n",
        "else:\n",
        "    print('File type not accepted.')\n",
        "    sys.exit()\n",
        "\n",
        "#specify destination filetype\n",
        "to_file = input('Convert to (png/tiff/jpg):')\n",
        "\n",
        "def suffix(to_file):\n",
        "    if to_file == 'png':\n",
        "        return '.png'\n",
        "    elif to_file == 'tiff':\n",
        "        return '.tiff'\n",
        "    elif to_file == 'jpg':\n",
        "        return '.jpg'\n",
        "    else:\n",
        "        print('File type not accepted. Please try again.')\n",
        "        sys.exit()\n",
        "\n",
        "new_name = input('New file name:') + suffix(to_file)"
      ]
    },
    {
      "cell_type": "markdown",
      "id": "95f93892",
      "metadata": {
        "id": "95f93892"
      },
      "source": [
        "### 3. Convert your image to an array:"
      ]
    },
    {
      "cell_type": "code",
      "execution_count": 44,
      "id": "f1527dfe",
      "metadata": {
        "id": "f1527dfe"
      },
      "outputs": [],
      "source": [
        "def img_to_array(fn):\n",
        "    if filetype == '.mrc':\n",
        "        return mrcfile.mmap(fn, permissive=True).data\n",
        "    else:\n",
        "        return np.asarray(im.open(fn))\n",
        "\n",
        "array = img_to_array(fn)"
      ]
    },
    {
      "cell_type": "markdown",
      "id": "cfa1354d",
      "metadata": {
        "id": "cfa1354d"
      },
      "source": [
        "### 4. Set contrast limits. Details in the code:"
      ]
    },
    {
      "cell_type": "code",
      "execution_count": 45,
      "id": "afa4cca2",
      "metadata": {
        "colab": {
          "base_uri": "https://localhost:8080/"
        },
        "id": "afa4cca2",
        "outputId": "b7b0f24c-d089-424c-a403-c37e433743b0"
      },
      "outputs": [
        {
          "output_type": "stream",
          "name": "stdout",
          "text": [
            "16037.959\n",
            "21506.455\n"
          ]
        }
      ],
      "source": [
        "# to find the min and max of the array, if necessary\n",
        "print(np.min(array))\n",
        "print(np.max(array))"
      ]
    },
    {
      "cell_type": "code",
      "execution_count": 46,
      "id": "238fcc19",
      "metadata": {
        "id": "238fcc19"
      },
      "outputs": [],
      "source": [
        "#set contrast limits\n",
        "if filetype == '.mrc':\n",
        "    contrast_min = 18432 # or a specified minimum pixel value\n",
        "    contrast_max = 20017 # or a specified maximum pixel value\n",
        "\n",
        "    ## contrast limits of mrc files must be manually adjusted to appear as they look in napari. in rare cases,\n",
        "    ## the limits are equal to the min and max of the image. if so, use the same parameters for all other image\n",
        "    ## file types. napari does not seem to adjust the contrast limits in any substantial way; these values may\n",
        "    ## be found in metadata associated with the image itself. for now, the only way to find these values is by\n",
        "    ## trial and error. it may be helpful to find the min and max values using the block above. contrast limits\n",
        "    ## are often somewhere in the middle of that range.\n",
        "\n",
        "else:\n",
        "    contrast_min = array.min()\n",
        "    contrast_max = array.max()\n",
        "\n",
        "array = np.where(array <= contrast_min, contrast_min, array)\n",
        "array = np.where(array >= contrast_max, contrast_max, array)\n",
        "array = (array-np.min(array))/(np.max(array)-np.min(array))\n",
        "array *= 255/array.max()"
      ]
    },
    {
      "cell_type": "markdown",
      "id": "d2bbfd79",
      "metadata": {
        "id": "d2bbfd79"
      },
      "source": [
        "### 5. Convert the array to the desired image file and return output:"
      ]
    },
    {
      "cell_type": "code",
      "execution_count": 47,
      "id": "67cefa41",
      "metadata": {
        "scrolled": true,
        "colab": {
          "base_uri": "https://localhost:8080/",
          "height": 35
        },
        "id": "67cefa41",
        "outputId": "e8333916-62be-44ff-cb3d-2fb1f6fce7b6"
      },
      "outputs": [
        {
          "output_type": "display_data",
          "data": {
            "text/plain": [
              "<IPython.core.display.Javascript object>"
            ],
            "application/javascript": [
              "\n",
              "    async function download(id, filename, size) {\n",
              "      if (!google.colab.kernel.accessAllowed) {\n",
              "        return;\n",
              "      }\n",
              "      const div = document.createElement('div');\n",
              "      const label = document.createElement('label');\n",
              "      label.textContent = `Downloading \"${filename}\": `;\n",
              "      div.appendChild(label);\n",
              "      const progress = document.createElement('progress');\n",
              "      progress.max = size;\n",
              "      div.appendChild(progress);\n",
              "      document.body.appendChild(div);\n",
              "\n",
              "      const buffers = [];\n",
              "      let downloaded = 0;\n",
              "\n",
              "      const channel = await google.colab.kernel.comms.open(id);\n",
              "      // Send a message to notify the kernel that we're ready.\n",
              "      channel.send({})\n",
              "\n",
              "      for await (const message of channel.messages) {\n",
              "        // Send a message to notify the kernel that we're ready.\n",
              "        channel.send({})\n",
              "        if (message.buffers) {\n",
              "          for (const buffer of message.buffers) {\n",
              "            buffers.push(buffer);\n",
              "            downloaded += buffer.byteLength;\n",
              "            progress.value = downloaded;\n",
              "          }\n",
              "        }\n",
              "      }\n",
              "      const blob = new Blob(buffers, {type: 'application/binary'});\n",
              "      const a = document.createElement('a');\n",
              "      a.href = window.URL.createObjectURL(blob);\n",
              "      a.download = filename;\n",
              "      div.appendChild(a);\n",
              "      a.click();\n",
              "      div.remove();\n",
              "    }\n",
              "  "
            ]
          },
          "metadata": {}
        },
        {
          "output_type": "display_data",
          "data": {
            "text/plain": [
              "<IPython.core.display.Javascript object>"
            ],
            "application/javascript": [
              "download(\"download_cdaf4251-e6f2-470d-94ca-e9693be7963c\", \"conv.png\", 11211871)"
            ]
          },
          "metadata": {}
        },
        {
          "output_type": "stream",
          "name": "stdout",
          "text": [
            "22feb15b_ApoF_00005gr_00047sq_v02_00002hln_00014enn-a-DW.mrc successfully converted to png, see file conv.png\n"
          ]
        }
      ],
      "source": [
        "#convert array to new image filetype\n",
        "def array_to_img(array):\n",
        "    if to_file == 'tiff':\n",
        "        array = array.astype(np.uint8)\n",
        "        return tif.imwrite(new_name, array)\n",
        "    elif to_file == 'png':\n",
        "        array = array.astype(np.uint8)\n",
        "        png = im.fromarray(array)\n",
        "        return png.save(new_name, Format='PNG')\n",
        "    else:\n",
        "        array = array.astype(np.uint8)\n",
        "        jpg = im.fromarray(array).convert('RGB')\n",
        "        return jpg.save(new_name, Format='JPG')\n",
        "\n",
        "array_to_img(array)\n",
        "files.download(new_name)\n",
        "\n",
        "print(fn, ' successfully converted to ', to_file,', see file ', new_name, sep='')"
      ]
    }
  ],
  "metadata": {
    "kernelspec": {
      "display_name": "Python 3 (ipykernel)",
      "language": "python",
      "name": "python3"
    },
    "language_info": {
      "codemirror_mode": {
        "name": "ipython",
        "version": 3
      },
      "file_extension": ".py",
      "mimetype": "text/x-python",
      "name": "python",
      "nbconvert_exporter": "python",
      "pygments_lexer": "ipython3",
      "version": "3.10.9"
    },
    "colab": {
      "provenance": [],
      "include_colab_link": true
    }
  },
  "nbformat": 4,
  "nbformat_minor": 5
}